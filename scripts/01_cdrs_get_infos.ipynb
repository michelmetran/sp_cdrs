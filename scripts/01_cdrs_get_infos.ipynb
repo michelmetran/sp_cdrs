{
 "cells": [
  {
   "cell_type": "code",
   "execution_count": null,
   "id": "20cb53db",
   "metadata": {},
   "outputs": [],
   "source": [
    "url = 'https://www.cdrs.sp.gov.br/portal/institucional/enderecos'\n",
    "url"
   ]
  },
  {
   "cell_type": "markdown",
   "id": "24c04af5-b608-4aec-8f96-5f222817801e",
   "metadata": {},
   "source": [
    "https://www.cati.sp.gov.br/portal/institucional/enderecos?page=98&per-page=6"
   ]
  },
  {
   "cell_type": "code",
   "execution_count": null,
   "id": "84efdbc3-c3d7-4400-a6ba-e55bd1b52697",
   "metadata": {},
   "outputs": [],
   "source": []
  }
 ],
 "metadata": {
  "kernelspec": {
   "display_name": "Python [conda env:pablocarreira-py39] *",
   "language": "python",
   "name": "conda-env-pablocarreira-py39-py"
  },
  "language_info": {
   "codemirror_mode": {
    "name": "ipython",
    "version": 3
   },
   "file_extension": ".py",
   "mimetype": "text/x-python",
   "name": "python",
   "nbconvert_exporter": "python",
   "pygments_lexer": "ipython3",
   "version": "3.9.12"
  }
 },
 "nbformat": 4,
 "nbformat_minor": 5
}
