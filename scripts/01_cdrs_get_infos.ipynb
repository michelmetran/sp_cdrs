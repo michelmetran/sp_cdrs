{
 "cells": [
  {
   "cell_type": "markdown",
   "id": "0ef016d3",
   "metadata": {},
   "source": [
    "<br>\n",
    "\n",
    "# Introdução\n"
   ]
  },
  {
   "cell_type": "code",
   "execution_count": null,
   "id": "9f063722",
   "metadata": {},
   "outputs": [],
   "source": [
    "import time\n",
    "import numpy as np\n",
    "import pandas as pd\n",
    "from selenium.webdriver.common.by import By\n"
   ]
  },
  {
   "cell_type": "code",
   "execution_count": null,
   "id": "f9e62332",
   "metadata": {},
   "outputs": [],
   "source": [
    "from driver import driver\n",
    "from paths import *\n"
   ]
  },
  {
   "cell_type": "code",
   "execution_count": null,
   "id": "836a5eea",
   "metadata": {},
   "outputs": [],
   "source": [
    "URL = 'https://www.cati.sp.gov.br/portal/institucional/enderecos'\n",
    "driver.get(URL)\n"
   ]
  },
  {
   "cell_type": "markdown",
   "id": "8fb075d8",
   "metadata": {},
   "source": [
    "<br>\n",
    "\n",
    "## Navegação\n"
   ]
  },
  {
   "cell_type": "code",
   "execution_count": null,
   "id": "542a84f6",
   "metadata": {},
   "outputs": [],
   "source": [
    "def preview_page():\n",
    "    # Lista Boxes\n",
    "    boxes_xpath = driver.find_element(\n",
    "        By.XPATH, '//*[@id=\"p1\"]/*[@id=\"list-wrapper\"]')\n",
    "\n",
    "    try:\n",
    "        a = boxes_xpath.find_element(\n",
    "            By.XPATH, './/*[@class=\"text-center\"]//li[@class=\"prev disabled\"]')\n",
    "        print('Não há mais páginas anteriores')\n",
    "        return True\n",
    "\n",
    "    except Exception as e:\n",
    "        # Próxima\n",
    "        next_xpath = boxes_xpath.find_element(\n",
    "            By.XPATH, './/*[@class=\"text-center\"]//li[@class=\"prev\"]//a')\n",
    "        next_xpath.click()\n",
    "\n",
    "        # Lista Boxes: Refresh DOM\n",
    "        boxes_xpath = driver.find_element(\n",
    "            By.XPATH, '//*[@id=\"p1\"]/*[@id=\"list-wrapper\"]')\n",
    "        return False"
   ]
  },
  {
   "cell_type": "code",
   "execution_count": null,
   "id": "1b8255d2",
   "metadata": {},
   "outputs": [],
   "source": [
    "def go_first_page():\n",
    "    \"\"\"\n",
    "\n",
    "    \"\"\"\n",
    "    try:\n",
    "        is_first_page = False\n",
    "        while not is_first_page:\n",
    "            is_first_page = preview_page()\n",
    "        print('Cheguei na primeira página')\n",
    "        return True\n",
    "        \n",
    "    except Exception as e:\n",
    "        print(f'Erro: {e}')\n",
    "        print(f'Erro: {driver.title}')\n",
    "        return False"
   ]
  },
  {
   "cell_type": "code",
   "execution_count": null,
   "id": "f99800e4",
   "metadata": {},
   "outputs": [],
   "source": [
    "def forward_page():\n",
    "    try:\n",
    "        # Lista Boxes\n",
    "        boxes_xpath = driver.find_element(\n",
    "            By.XPATH, '//*[@id=\"p1\"]/*[@id=\"list-wrapper\"]')\n",
    "\n",
    "        # Próxima\n",
    "        next_xpath = boxes_xpath.find_element(\n",
    "            By.XPATH, './/*[@class=\"text-center\"]//li[@class=\"next\"]//a')\n",
    "        next_xpath.get_attribute('outerHTML')\n",
    "        next_xpath.click()\n",
    "\n",
    "        # Lista Boxes: Refresh DOM\n",
    "        boxes_xpath = driver.find_element(\n",
    "            By.XPATH, '//*[@id=\"p1\"]/*[@id=\"list-wrapper\"]')\n",
    "        return True\n",
    "\n",
    "    except Exception as e:\n",
    "        print(f'Erro: {e}')\n",
    "        print(f'Erro: {driver.title}')\n",
    "        return False\n"
   ]
  },
  {
   "cell_type": "code",
   "execution_count": null,
   "id": "98e334c5",
   "metadata": {},
   "outputs": [],
   "source": [
    "def go_to_page(page):    \n",
    "    driver.get(f'https://www.cati.sp.gov.br/portal/institucional/enderecos?page={page}')\n",
    "    "
   ]
  },
  {
   "cell_type": "code",
   "execution_count": null,
   "id": "c33d0bec",
   "metadata": {},
   "outputs": [],
   "source": [
    "go_to_page(5)"
   ]
  },
  {
   "cell_type": "code",
   "execution_count": null,
   "id": "37bc902b",
   "metadata": {},
   "outputs": [],
   "source": [
    "preview_page()\n"
   ]
  },
  {
   "cell_type": "code",
   "execution_count": null,
   "id": "4abdcf0c",
   "metadata": {},
   "outputs": [],
   "source": [
    "go_first_page()\n"
   ]
  },
  {
   "cell_type": "code",
   "execution_count": null,
   "id": "18f4f716",
   "metadata": {},
   "outputs": [],
   "source": [
    "forward_page()\n"
   ]
  },
  {
   "cell_type": "markdown",
   "id": "b5bff8ac",
   "metadata": {},
   "source": [
    "<br>\n",
    "\n",
    "## Informações\n"
   ]
  },
  {
   "cell_type": "code",
   "execution_count": null,
   "id": "14222483",
   "metadata": {},
   "outputs": [],
   "source": [
    "def get_data_from_single_page():\n",
    "    \"\"\"\n",
    "    Monta uma tabela com todas as informações de uma única página\n",
    "    No geral, são 6 unidades por página.\n",
    "\n",
    "    \"\"\"\n",
    "    df = pd.DataFrame()\n",
    "\n",
    "    try:\n",
    "        # Lista Boxes\n",
    "        boxes_xpath = driver.find_element(\n",
    "            By.XPATH, '//*[@id=\"p1\"]/*[@id=\"list-wrapper\"]')\n",
    "\n",
    "        # Lista todos os Boxes (6 por página!)\n",
    "        # Para cada box, pega todas as infos\n",
    "        for box in boxes_xpath.find_elements(By.XPATH, './/*[@class=\"col-xs-6 col-sm-4\"]'):\n",
    "\n",
    "            # Xpaths: Title\n",
    "            ca = box.find_element(By.XPATH, './/h4')\n",
    "            cati = box.find_element(\n",
    "                By.XPATH, './/*[@class=\"btn-u btn-u-green outline-outward btn-link\"]')\n",
    "            # Xpaths: Box\n",
    "            info_xpath = box.find_element(\n",
    "                By.XPATH, './/ul[@class=\"list-unstyled pricing-v1-content\"]')\n",
    "\n",
    "            try:\n",
    "                # Tenta Pegar informações\n",
    "                endereco = info_xpath.find_element(\n",
    "                    By.XPATH, './/*[@class=\"fa fa-home\"]/..')\n",
    "                municipio = info_xpath.find_element(\n",
    "                    By.XPATH, './/*[@class=\"glyphicon glyphicon-map-marker\"]/..')\n",
    "                email = info_xpath.find_element(\n",
    "                    By.XPATH, './/*[@class=\"fa fa-envelope\"]/..')\n",
    "                telefone = info_xpath.find_element(\n",
    "                    By.XPATH, './/*[@class=\"fa fa-phone\"]/..')\n",
    "                responsavel = info_xpath.find_element(\n",
    "                    By.XPATH, './/*[@class=\"glyphicon glyphicon-user\"]/..')\n",
    "                tecnicos = info_xpath.find_element(\n",
    "                    By.XPATH, './/*[@class=\"icon-users\"]/..')\n",
    "                find_data = True\n",
    "\n",
    "            except:\n",
    "                # Exessão de Municípios sem Unidades\n",
    "                find_text = 'Não existe unidade em '\n",
    "                check_data = info_xpath.find_element(\n",
    "                    By.XPATH, f'.//li[contains(text(), \"{find_text}\")]')\n",
    "                mun_info = check_data.text.split('\\n')[0]\n",
    "                mun = mun_info.replace(find_text, '').replace('.', '')\n",
    "                print(mun_info)\n",
    "                find_data = False\n",
    "\n",
    "            if find_data:\n",
    "                # Parametros\n",
    "                dict_box = {\n",
    "                    'ca': ca.text,\n",
    "                    'cati': cati.text,\n",
    "                    'cati_url': cati.get_attribute('href'),\n",
    "                    'endereco': endereco.text,\n",
    "                    'municipio': municipio.text,\n",
    "                    'email': email.text,\n",
    "                    'telefone': telefone.text,\n",
    "                    'responsavel': responsavel.text,\n",
    "                    'tecnicos': tecnicos.text,\n",
    "                    'tem_dados': find_data,\n",
    "                }\n",
    "            elif find_data == False:\n",
    "                dict_box = {\n",
    "                    'ca': f'{mun}',\n",
    "                    'cati': None,\n",
    "                    'cati_url': None,\n",
    "                    'endereco': None,\n",
    "                    'municipio': None,\n",
    "                    'email': None,\n",
    "                    'telefone': None,\n",
    "                    'responsavel': None,\n",
    "                    'tecnicos': None,\n",
    "                    'tem_dados': find_data,\n",
    "                }\n",
    "            df_temp = pd.DataFrame([dict_box])\n",
    "            df = pd.concat([df, df_temp], ignore_index=True)\n",
    "        return df\n",
    "\n",
    "    except Exception as e:\n",
    "        print(f'Erro: {e}')\n",
    "        print(f'Erro: {driver.title}')\n"
   ]
  },
  {
   "cell_type": "markdown",
   "id": "0822b45c",
   "metadata": {},
   "source": [
    "<br>\n",
    "\n",
    "## Loop\n"
   ]
  },
  {
   "cell_type": "code",
   "execution_count": null,
   "id": "f1f8c9f8",
   "metadata": {},
   "outputs": [],
   "source": [
    "n_municipio = 645\n",
    "n_box_per_page = 6\n",
    "int(n_municipio / n_box_per_page) + 1\n",
    "n_loops = int(np.ceil(n_municipio / n_box_per_page))\n",
    "n_loops\n"
   ]
  },
  {
   "cell_type": "code",
   "execution_count": null,
   "id": "685bd6fd",
   "metadata": {},
   "outputs": [],
   "source": [
    "# Manualmente, vi que 114 é a última página válida\n",
    "n_loops = 114"
   ]
  },
  {
   "cell_type": "code",
   "execution_count": null,
   "id": "48edeb6c",
   "metadata": {},
   "outputs": [],
   "source": [
    "df = pd.DataFrame()\n",
    "\n",
    "# \n",
    "go_to_page(1)\n",
    "\n",
    "# Loop\n",
    "for page in range(n_loops):\n",
    "    # Avança Página\n",
    "    if forward_page():\n",
    "        # Get Data\n",
    "        df_page = get_data_from_single_page()\n",
    "        df = pd.concat([df, df_page], ignore_index=True)\n",
    "\n",
    "        # Delay\n",
    "        time.sleep(1)\n",
    "    else:\n",
    "        print('Não avançou página com sucesso!')\n"
   ]
  },
  {
   "cell_type": "markdown",
   "id": "e08d5c9e",
   "metadata": {},
   "source": [
    "<br>\n",
    "\n",
    "## Results\n"
   ]
  },
  {
   "cell_type": "code",
   "execution_count": null,
   "id": "8d9b7cef",
   "metadata": {},
   "outputs": [],
   "source": [
    "df.to_csv(\n",
    "    output_path / 'tab_cati.csv',\n",
    "    index=False,\n",
    ")\n",
    "df.tail()\n"
   ]
  },
  {
   "cell_type": "code",
   "execution_count": null,
   "id": "49341abd",
   "metadata": {},
   "outputs": [],
   "source": [
    "driver.quit()"
   ]
  },
  {
   "cell_type": "code",
   "execution_count": null,
   "id": "23f8dd73",
   "metadata": {},
   "outputs": [],
   "source": []
  }
 ],
 "metadata": {
  "kernelspec": {
   "display_name": "Python 3.9.13 ('pablocarreira-py39')",
   "language": "python",
   "name": "python3"
  },
  "language_info": {
   "codemirror_mode": {
    "name": "ipython",
    "version": 3
   },
   "file_extension": ".py",
   "mimetype": "text/x-python",
   "name": "python",
   "nbconvert_exporter": "python",
   "pygments_lexer": "ipython3",
   "version": "3.9.13"
  },
  "vscode": {
   "interpreter": {
    "hash": "397a8db9a99587ebc9659e575e97c3dbc03b7cdbd9bc181d706cc19eab1087ed"
   }
  }
 },
 "nbformat": 4,
 "nbformat_minor": 5
}
